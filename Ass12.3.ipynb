{
 "cells": [
  {
   "cell_type": "code",
   "execution_count": 1,
   "id": "4426a7df-0426-4901-ad4e-9a59f59ebdfe",
   "metadata": {
    "tags": []
   },
   "outputs": [
    {
     "name": "stdout",
     "output_type": "stream",
     "text": [
      "Original short list: [64, 34, 25, 12, 22]\n",
      "Sorted short list: [12, 22, 25, 34, 64]\n",
      "Original long list: [12, 11, 13, 5, 6, 7, 22, 64, 90, 0, 44, 33]\n",
      "Sorted long list: [0, 5, 6, 7, 11, 12, 13, 22, 33, 44, 64, 90]\n"
     ]
    }
   ],
   "source": [
    "# Custom method to sort a list of integers (bubble sort)\n",
    "def custom_sort(arr):\n",
    "    n = len(arr)\n",
    "    # Traverse through all list elements\n",
    "    for i in range(n):\n",
    "        # Last i elements are already in place\n",
    "        for j in range(0, n - i - 1):\n",
    "            # Swap if the element found is greater than the next element\n",
    "            if arr[j] > arr[j + 1]:\n",
    "                arr[j], arr[j + 1] = arr[j + 1], arr[j]\n",
    "    return arr\n",
    "\n",
    "# Test the custom sorting method with a short and long list\n",
    "short_list = [64, 34, 25, 12, 22]\n",
    "long_list = [12, 11, 13, 5, 6, 7, 22, 64, 90, 0, 44, 33]\n",
    "\n",
    "print(\"Original short list:\", short_list)\n",
    "print(\"Sorted short list:\", custom_sort(short_list))\n",
    "\n",
    "print(\"Original long list:\", long_list)\n",
    "print(\"Sorted long list:\", custom_sort(long_list))"
   ]
  },
  {
   "cell_type": "code",
   "execution_count": null,
   "id": "4f2ec9bb-b38b-455b-8a5b-fb34721ab9df",
   "metadata": {},
   "outputs": [],
   "source": []
  }
 ],
 "metadata": {
  "kernelspec": {
   "display_name": "Python 3 (ipykernel)",
   "language": "python",
   "name": "python3"
  },
  "language_info": {
   "codemirror_mode": {
    "name": "ipython",
    "version": 3
   },
   "file_extension": ".py",
   "mimetype": "text/x-python",
   "name": "python",
   "nbconvert_exporter": "python",
   "pygments_lexer": "ipython3",
   "version": "3.10.8"
  }
 },
 "nbformat": 4,
 "nbformat_minor": 5
}
