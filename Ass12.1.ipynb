{
 "cells": [
  {
   "cell_type": "code",
   "execution_count": 5,
   "id": "8fcfe831-b028-425a-920d-05d7699bbbfb",
   "metadata": {},
   "outputs": [],
   "source": [
    "import requests\n",
    "import re\n",
    "import os\n",
    "\n",
    "# 1. Send a GET request to the website\n",
    "url = 'https://gsom.spbu.ru/en/'\n",
    "response = requests.get(url)\n",
    "# Check if the request was successful\n",
    "if response.status_code == 200:\n",
    "    content = response.content.decode('utf-8')"
   ]
  },
  {
   "cell_type": "code",
   "execution_count": 7,
   "id": "5a18dcc2-ce6a-433b-a8f0-aa600fa1ea95",
   "metadata": {
    "tags": []
   },
   "outputs": [
    {
     "name": "stdout",
     "output_type": "stream",
     "text": [
      "Number of .png images found is: 29\n"
     ]
    }
   ],
   "source": [
    "     # 2. Count how many links to .png images the webpage has\n",
    "png_count = content.count('.png')\n",
    "print(f\"Number of .png images found is: {png_count}\")"
   ]
  },
  {
   "cell_type": "code",
   "execution_count": 12,
   "id": "f875d6bc-cc54-499b-92e1-48679af39189",
   "metadata": {
    "tags": []
   },
   "outputs": [
    {
     "name": "stdout",
     "output_type": "stream",
     "text": [
      "First .png image URL: https://gsom.spbu.ru/templates/gsom/img/favicon.png\n"
     ]
    }
   ],
   "source": [
    "# 3. Find the first link to a .png image\n",
    "png_match = re.search(r'\\/[^\\'\" ]+\\.png', content)\n",
    "\n",
    "if png_match:\n",
    "    png_path = png_match.group(0)\n",
    "    png_url = 'https://gsom.spbu.ru' + png_path\n",
    "    print(f\"First .png image URL: {png_url}\")"
   ]
  },
  {
   "cell_type": "code",
   "execution_count": 14,
   "id": "8ff70545-9f37-4db5-bfcc-fc1bc391de99",
   "metadata": {
    "tags": []
   },
   "outputs": [
    {
     "name": "stdout",
     "output_type": "stream",
     "text": [
      "Image saved as: favicon.png\n"
     ]
    }
   ],
   "source": [
    "# 4. Download and save the image locally\n",
    "img_response = requests.get(png_url)\n",
    "\n",
    "if img_response.status_code == 200:\n",
    "    # Extract image name from the URL\n",
    "    img_name = os.path.basename(png_url)\n",
    "    \n",
    "    # Save the image to the local file system\n",
    "    with open(img_name, 'wb') as img_file:\n",
    "        img_file.write(img_response.content)\n",
    "    print(f\"Image saved as: {img_name}\")\n",
    "else:\n",
    "    print(\"Failed to download the image.\")"
   ]
  },
  {
   "cell_type": "code",
   "execution_count": null,
   "id": "68a8053c-bab6-4ac5-8a89-6f932feb2bc3",
   "metadata": {},
   "outputs": [],
   "source": []
  }
 ],
 "metadata": {
  "kernelspec": {
   "display_name": "Python 3 (ipykernel)",
   "language": "python",
   "name": "python3"
  },
  "language_info": {
   "codemirror_mode": {
    "name": "ipython",
    "version": 3
   },
   "file_extension": ".py",
   "mimetype": "text/x-python",
   "name": "python",
   "nbconvert_exporter": "python",
   "pygments_lexer": "ipython3",
   "version": "3.10.8"
  }
 },
 "nbformat": 4,
 "nbformat_minor": 5
}
