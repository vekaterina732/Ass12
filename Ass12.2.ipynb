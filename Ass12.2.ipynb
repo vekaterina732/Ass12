{
 "cells": [
  {
   "cell_type": "code",
   "execution_count": 5,
   "id": "598bc201-c05f-42dd-931e-5d9161281357",
   "metadata": {
    "tags": []
   },
   "outputs": [
    {
     "name": "stdout",
     "output_type": "stream",
     "text": [
      "Company Financial Data (10 months):\n",
      "     Income (After Tax)  Expenses\n",
      "Jan              7000.0      7000\n",
      "Feb             10500.0      8000\n",
      "Mar              8400.0      6500\n",
      "Apr             12600.0      9000\n",
      "May             11900.0      8500\n",
      "Jun             11200.0      8000\n",
      "Jul             13300.0      9500\n",
      "Aug             15400.0     10000\n",
      "Sep             14700.0      9500\n",
      "Oct             17500.0     12000\n",
      "\n",
      "Data for 1st Quarter (Jan, Feb, Mar):\n",
      "     Income (After Tax)  Expenses\n",
      "Jan              7000.0      7000\n",
      "Feb             10500.0      8000\n",
      "Mar              8400.0      6500\n"
     ]
    }
   ],
   "source": [
    "import numpy as np\n",
    "import pandas as pd\n",
    "\n",
    "# 1. Create an ndarray for the company income for 10 months\n",
    "months = ['Jan', 'Feb', 'Mar', 'Apr', 'May', 'Jun', 'Jul', 'Aug', 'Sep', 'Oct']\n",
    "income = np.array([10000, 15000, 12000, 18000, 17000, 16000, 19000, 22000, 21000, 25000])\n",
    "\n",
    "# 2. Multiply income by 0.7 to get income_without_tax\n",
    "income_without_tax = income * 0.7\n",
    "\n",
    "# 3. Create another collection for the company's expenses for 10 months\n",
    "expenses = np.array([7000, 8000, 6500, 9000, 8500, 8000, 9500, 10000, 9500, 12000])\n",
    "\n",
    "# 4. Create a DataFrame with income_without_tax and expenses\n",
    "data = {'Income (After Tax)': income_without_tax, 'Expenses': expenses}\n",
    "df = pd.DataFrame(data, index=months)\n",
    "\n",
    "# 5. Output the DataFrame on the screen\n",
    "print(\"Company Financial Data (10 months):\")\n",
    "print(df)\n",
    "\n",
    "# 6. Output the data related to the 1st quarter (Jan, Feb, Mar)\n",
    "print(\"\\nData for 1st Quarter (Jan, Feb, Mar):\")\n",
    "print(df.loc[['Jan', 'Feb', 'Mar']])"
   ]
  },
  {
   "cell_type": "code",
   "execution_count": null,
   "id": "fa81c05a-c45e-4f5a-aea6-12e7d94179e6",
   "metadata": {},
   "outputs": [],
   "source": []
  }
 ],
 "metadata": {
  "kernelspec": {
   "display_name": "Python 3 (ipykernel)",
   "language": "python",
   "name": "python3"
  },
  "language_info": {
   "codemirror_mode": {
    "name": "ipython",
    "version": 3
   },
   "file_extension": ".py",
   "mimetype": "text/x-python",
   "name": "python",
   "nbconvert_exporter": "python",
   "pygments_lexer": "ipython3",
   "version": "3.10.8"
  }
 },
 "nbformat": 4,
 "nbformat_minor": 5
}
